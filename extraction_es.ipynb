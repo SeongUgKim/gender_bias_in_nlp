{
 "cells": [
  {
   "cell_type": "code",
   "execution_count": 1,
   "metadata": {
    "collapsed": true
   },
   "outputs": [],
   "source": [
    "import eval\n",
    "import pickle\n",
    "import pandas as pd\n",
    "import csv"
   ]
  },
  {
   "cell_type": "code",
   "execution_count": 2,
   "outputs": [],
   "source": [
    "df = pd.read_csv('ted2020.tsv.gz', sep='\\t', keep_default_na=False, encoding='utf8', quoting=csv.QUOTE_NONE)"
   ],
   "metadata": {
    "collapsed": false
   }
  },
  {
   "cell_type": "code",
   "execution_count": 3,
   "outputs": [],
   "source": [
    "en = df[['talkid', 'en']]\n",
    "ja = df[['talkid', 'ja']]\n",
    "de = df[['talkid', 'de']]\n",
    "ar = df[['talkid', 'ar']]\n",
    "es = df[['talkid', 'es']]\n",
    "pt = df[['talkid', 'pt']]\n",
    "ru = df[['talkid', 'ru']]\n",
    "id = df[['talkid', 'id']]\n",
    "zh = df[['talkid', 'zh-cn']]"
   ],
   "metadata": {
    "collapsed": false
   }
  },
  {
   "cell_type": "code",
   "execution_count": 6,
   "outputs": [],
   "source": [
    "def read_list(filename):\n",
    "    with open(filename, 'rb') as f:\n",
    "        n_list = pickle.load(f)\n",
    "        return n_list"
   ],
   "metadata": {
    "collapsed": false
   }
  },
  {
   "cell_type": "code",
   "execution_count": 7,
   "outputs": [],
   "source": [
    "male_words_en = read_list('wordlist/male_word_file_en')\n",
    "female_words_en = read_list('wordlist/female_word_file_en')\n",
    "male_words_de = read_list('wordlist/male_word_file_de')\n",
    "female_words_de = read_list('wordlist/female_word_file_de')\n",
    "male_words_es = read_list('wordlist/male_word_file_es')\n",
    "female_words_es = read_list('wordlist/female_word_file_es')\n",
    "only_male_words_de = read_list('wordlist/only_male_word_file_de')\n",
    "only_female_words_de = read_list('wordlist/only_female_word_file_de')\n",
    "only_male_words_es = read_list('wordlist/only_male_word_file_es')\n",
    "only_female_words_es = read_list('wordlist/only_female_word_file_es')"
   ],
   "metadata": {
    "collapsed": false
   }
  },
  {
   "cell_type": "code",
   "execution_count": 8,
   "outputs": [],
   "source": [
    "tokens_list_es = eval.tokenize(es, 'es', 0)\n",
    "output_es = eval.extract_kth_neighbor_sentences(tokens_list_es, male_words_es, female_words_es, 0)\n",
    "only_output_es = eval.extract_kth_neighbor_sentences(tokens_list_es, only_male_words_es, only_female_words_es, 0)"
   ],
   "metadata": {
    "collapsed": false
   }
  }
 ],
 "metadata": {
  "kernelspec": {
   "display_name": "Python 3",
   "language": "python",
   "name": "python3"
  },
  "language_info": {
   "codemirror_mode": {
    "name": "ipython",
    "version": 2
   },
   "file_extension": ".py",
   "mimetype": "text/x-python",
   "name": "python",
   "nbconvert_exporter": "python",
   "pygments_lexer": "ipython2",
   "version": "2.7.6"
  }
 },
 "nbformat": 4,
 "nbformat_minor": 0
}
